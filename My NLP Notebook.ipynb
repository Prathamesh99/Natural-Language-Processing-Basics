{
 "cells": [
  {
   "cell_type": "markdown",
   "metadata": {},
   "source": [
    "# Installing and  downloading nltk"
   ]
  },
  {
   "cell_type": "code",
   "execution_count": 1,
   "metadata": {},
   "outputs": [
    {
     "name": "stdout",
     "output_type": "stream",
     "text": [
      "showing info https://raw.githubusercontent.com/nltk/nltk_data/gh-pages/index.xml\n"
     ]
    },
    {
     "data": {
      "text/plain": [
       "True"
      ]
     },
     "execution_count": 1,
     "metadata": {},
     "output_type": "execute_result"
    }
   ],
   "source": [
    "import nltk\n",
    "nltk.download()"
   ]
  },
  {
   "cell_type": "markdown",
   "metadata": {},
   "source": [
    "# Tokenizing the data"
   ]
  },
  {
   "cell_type": "code",
   "execution_count": 2,
   "metadata": {},
   "outputs": [],
   "source": [
    "paragraph = \"\"\"Thank you all so very much. Thank you to the Academy. Thank you to all of you in this room. I have to congratulate the other incredible nominees this year. The Revenant was the product of the tireless efforts of an unbelievable cast and crew. First off, to my brother in this endeavor, Mr. Tom Hardy. Tom, your talent on screen can only be surpassed by your friendship off screen … thank you for creating a transcendent cinematic experience. Thank you to everybody at Fox and New Regency … my entire team. I have to thank everyone from the very onset of my career … To my parents; none of this would be possible without you. And to my friends, I love you dearly; you know who you are.\n",
    "\n",
    "And lastly, I just want to say this: Making The Revenant was about man's relationship to the natural world. A world that we collectively felt in 2015 as the hottest year in recorded history. Our production needed to move to the southern tip of this planet just to be able to find snow. Climate change is real, it is happening right now. It is the most urgent threat facing our entire species, and we need to work collectively together and stop procrastinating. We need to support leaders around the world who do not speak for the big polluters, but who speak for all of humanity, for the indigenous people of the world, for the billions and billions of underprivileged people out there who would be most affected by this. For our children’s children, and for those people out there whose voices have been drowned out by the politics of greed. I thank you all for this amazing award tonight. Let us not take this planet for granted. I do not take tonight for granted. Thank you so very much.\"\"\""
   ]
  },
  {
   "cell_type": "code",
   "execution_count": 3,
   "metadata": {},
   "outputs": [],
   "source": [
    "sentences = nltk.sent_tokenize(paragraph)\n",
    "words = nltk.word_tokenize(paragraph)"
   ]
  },
  {
   "cell_type": "code",
   "execution_count": 4,
   "metadata": {},
   "outputs": [
    {
     "data": {
      "text/plain": [
       "['Thank you all so very much.',\n",
       " 'Thank you to the Academy.',\n",
       " 'Thank you to all of you in this room.',\n",
       " 'I have to congratulate the other incredible nominees this year.',\n",
       " 'The Revenant was the product of the tireless efforts of an unbelievable cast and crew.',\n",
       " 'First off, to my brother in this endeavor, Mr. Tom Hardy.',\n",
       " 'Tom, your talent on screen can only be surpassed by your friendship off screen … thank you for creating a transcendent cinematic experience.',\n",
       " 'Thank you to everybody at Fox and New Regency … my entire team.',\n",
       " 'I have to thank everyone from the very onset of my career … To my parents; none of this would be possible without you.',\n",
       " 'And to my friends, I love you dearly; you know who you are.',\n",
       " \"And lastly, I just want to say this: Making The Revenant was about man's relationship to the natural world.\",\n",
       " 'A world that we collectively felt in 2015 as the hottest year in recorded history.',\n",
       " 'Our production needed to move to the southern tip of this planet just to be able to find snow.',\n",
       " 'Climate change is real, it is happening right now.',\n",
       " 'It is the most urgent threat facing our entire species, and we need to work collectively together and stop procrastinating.',\n",
       " 'We need to support leaders around the world who do not speak for the big polluters, but who speak for all of humanity, for the indigenous people of the world, for the billions and billions of underprivileged people out there who would be most affected by this.',\n",
       " 'For our children’s children, and for those people out there whose voices have been drowned out by the politics of greed.',\n",
       " 'I thank you all for this amazing award tonight.',\n",
       " 'Let us not take this planet for granted.',\n",
       " 'I do not take tonight for granted.',\n",
       " 'Thank you so very much.']"
      ]
     },
     "execution_count": 4,
     "metadata": {},
     "output_type": "execute_result"
    }
   ],
   "source": [
    "sentences"
   ]
  },
  {
   "cell_type": "code",
   "execution_count": 5,
   "metadata": {},
   "outputs": [
    {
     "data": {
      "text/plain": [
       "['Thank',\n",
       " 'you',\n",
       " 'all',\n",
       " 'so',\n",
       " 'very',\n",
       " 'much',\n",
       " '.',\n",
       " 'Thank',\n",
       " 'you',\n",
       " 'to',\n",
       " 'the',\n",
       " 'Academy',\n",
       " '.',\n",
       " 'Thank',\n",
       " 'you',\n",
       " 'to',\n",
       " 'all',\n",
       " 'of',\n",
       " 'you',\n",
       " 'in',\n",
       " 'this',\n",
       " 'room',\n",
       " '.',\n",
       " 'I',\n",
       " 'have',\n",
       " 'to',\n",
       " 'congratulate',\n",
       " 'the',\n",
       " 'other',\n",
       " 'incredible',\n",
       " 'nominees',\n",
       " 'this',\n",
       " 'year',\n",
       " '.',\n",
       " 'The',\n",
       " 'Revenant',\n",
       " 'was',\n",
       " 'the',\n",
       " 'product',\n",
       " 'of',\n",
       " 'the',\n",
       " 'tireless',\n",
       " 'efforts',\n",
       " 'of',\n",
       " 'an',\n",
       " 'unbelievable',\n",
       " 'cast',\n",
       " 'and',\n",
       " 'crew',\n",
       " '.',\n",
       " 'First',\n",
       " 'off',\n",
       " ',',\n",
       " 'to',\n",
       " 'my',\n",
       " 'brother',\n",
       " 'in',\n",
       " 'this',\n",
       " 'endeavor',\n",
       " ',',\n",
       " 'Mr.',\n",
       " 'Tom',\n",
       " 'Hardy',\n",
       " '.',\n",
       " 'Tom',\n",
       " ',',\n",
       " 'your',\n",
       " 'talent',\n",
       " 'on',\n",
       " 'screen',\n",
       " 'can',\n",
       " 'only',\n",
       " 'be',\n",
       " 'surpassed',\n",
       " 'by',\n",
       " 'your',\n",
       " 'friendship',\n",
       " 'off',\n",
       " 'screen',\n",
       " '…',\n",
       " 'thank',\n",
       " 'you',\n",
       " 'for',\n",
       " 'creating',\n",
       " 'a',\n",
       " 'transcendent',\n",
       " 'cinematic',\n",
       " 'experience',\n",
       " '.',\n",
       " 'Thank',\n",
       " 'you',\n",
       " 'to',\n",
       " 'everybody',\n",
       " 'at',\n",
       " 'Fox',\n",
       " 'and',\n",
       " 'New',\n",
       " 'Regency',\n",
       " '…',\n",
       " 'my',\n",
       " 'entire',\n",
       " 'team',\n",
       " '.',\n",
       " 'I',\n",
       " 'have',\n",
       " 'to',\n",
       " 'thank',\n",
       " 'everyone',\n",
       " 'from',\n",
       " 'the',\n",
       " 'very',\n",
       " 'onset',\n",
       " 'of',\n",
       " 'my',\n",
       " 'career',\n",
       " '…',\n",
       " 'To',\n",
       " 'my',\n",
       " 'parents',\n",
       " ';',\n",
       " 'none',\n",
       " 'of',\n",
       " 'this',\n",
       " 'would',\n",
       " 'be',\n",
       " 'possible',\n",
       " 'without',\n",
       " 'you',\n",
       " '.',\n",
       " 'And',\n",
       " 'to',\n",
       " 'my',\n",
       " 'friends',\n",
       " ',',\n",
       " 'I',\n",
       " 'love',\n",
       " 'you',\n",
       " 'dearly',\n",
       " ';',\n",
       " 'you',\n",
       " 'know',\n",
       " 'who',\n",
       " 'you',\n",
       " 'are',\n",
       " '.',\n",
       " 'And',\n",
       " 'lastly',\n",
       " ',',\n",
       " 'I',\n",
       " 'just',\n",
       " 'want',\n",
       " 'to',\n",
       " 'say',\n",
       " 'this',\n",
       " ':',\n",
       " 'Making',\n",
       " 'The',\n",
       " 'Revenant',\n",
       " 'was',\n",
       " 'about',\n",
       " 'man',\n",
       " \"'s\",\n",
       " 'relationship',\n",
       " 'to',\n",
       " 'the',\n",
       " 'natural',\n",
       " 'world',\n",
       " '.',\n",
       " 'A',\n",
       " 'world',\n",
       " 'that',\n",
       " 'we',\n",
       " 'collectively',\n",
       " 'felt',\n",
       " 'in',\n",
       " '2015',\n",
       " 'as',\n",
       " 'the',\n",
       " 'hottest',\n",
       " 'year',\n",
       " 'in',\n",
       " 'recorded',\n",
       " 'history',\n",
       " '.',\n",
       " 'Our',\n",
       " 'production',\n",
       " 'needed',\n",
       " 'to',\n",
       " 'move',\n",
       " 'to',\n",
       " 'the',\n",
       " 'southern',\n",
       " 'tip',\n",
       " 'of',\n",
       " 'this',\n",
       " 'planet',\n",
       " 'just',\n",
       " 'to',\n",
       " 'be',\n",
       " 'able',\n",
       " 'to',\n",
       " 'find',\n",
       " 'snow',\n",
       " '.',\n",
       " 'Climate',\n",
       " 'change',\n",
       " 'is',\n",
       " 'real',\n",
       " ',',\n",
       " 'it',\n",
       " 'is',\n",
       " 'happening',\n",
       " 'right',\n",
       " 'now',\n",
       " '.',\n",
       " 'It',\n",
       " 'is',\n",
       " 'the',\n",
       " 'most',\n",
       " 'urgent',\n",
       " 'threat',\n",
       " 'facing',\n",
       " 'our',\n",
       " 'entire',\n",
       " 'species',\n",
       " ',',\n",
       " 'and',\n",
       " 'we',\n",
       " 'need',\n",
       " 'to',\n",
       " 'work',\n",
       " 'collectively',\n",
       " 'together',\n",
       " 'and',\n",
       " 'stop',\n",
       " 'procrastinating',\n",
       " '.',\n",
       " 'We',\n",
       " 'need',\n",
       " 'to',\n",
       " 'support',\n",
       " 'leaders',\n",
       " 'around',\n",
       " 'the',\n",
       " 'world',\n",
       " 'who',\n",
       " 'do',\n",
       " 'not',\n",
       " 'speak',\n",
       " 'for',\n",
       " 'the',\n",
       " 'big',\n",
       " 'polluters',\n",
       " ',',\n",
       " 'but',\n",
       " 'who',\n",
       " 'speak',\n",
       " 'for',\n",
       " 'all',\n",
       " 'of',\n",
       " 'humanity',\n",
       " ',',\n",
       " 'for',\n",
       " 'the',\n",
       " 'indigenous',\n",
       " 'people',\n",
       " 'of',\n",
       " 'the',\n",
       " 'world',\n",
       " ',',\n",
       " 'for',\n",
       " 'the',\n",
       " 'billions',\n",
       " 'and',\n",
       " 'billions',\n",
       " 'of',\n",
       " 'underprivileged',\n",
       " 'people',\n",
       " 'out',\n",
       " 'there',\n",
       " 'who',\n",
       " 'would',\n",
       " 'be',\n",
       " 'most',\n",
       " 'affected',\n",
       " 'by',\n",
       " 'this',\n",
       " '.',\n",
       " 'For',\n",
       " 'our',\n",
       " 'children',\n",
       " '’',\n",
       " 's',\n",
       " 'children',\n",
       " ',',\n",
       " 'and',\n",
       " 'for',\n",
       " 'those',\n",
       " 'people',\n",
       " 'out',\n",
       " 'there',\n",
       " 'whose',\n",
       " 'voices',\n",
       " 'have',\n",
       " 'been',\n",
       " 'drowned',\n",
       " 'out',\n",
       " 'by',\n",
       " 'the',\n",
       " 'politics',\n",
       " 'of',\n",
       " 'greed',\n",
       " '.',\n",
       " 'I',\n",
       " 'thank',\n",
       " 'you',\n",
       " 'all',\n",
       " 'for',\n",
       " 'this',\n",
       " 'amazing',\n",
       " 'award',\n",
       " 'tonight',\n",
       " '.',\n",
       " 'Let',\n",
       " 'us',\n",
       " 'not',\n",
       " 'take',\n",
       " 'this',\n",
       " 'planet',\n",
       " 'for',\n",
       " 'granted',\n",
       " '.',\n",
       " 'I',\n",
       " 'do',\n",
       " 'not',\n",
       " 'take',\n",
       " 'tonight',\n",
       " 'for',\n",
       " 'granted',\n",
       " '.',\n",
       " 'Thank',\n",
       " 'you',\n",
       " 'so',\n",
       " 'very',\n",
       " 'much',\n",
       " '.']"
      ]
     },
     "execution_count": 5,
     "metadata": {},
     "output_type": "execute_result"
    }
   ],
   "source": [
    "words"
   ]
  },
  {
   "cell_type": "markdown",
   "metadata": {},
   "source": [
    "# Stemming and Lemmatization"
   ]
  },
  {
   "cell_type": "code",
   "execution_count": 6,
   "metadata": {},
   "outputs": [],
   "source": [
    "from nltk.stem import PorterStemmer"
   ]
  },
  {
   "cell_type": "code",
   "execution_count": 7,
   "metadata": {},
   "outputs": [],
   "source": [
    "stemmer = PorterStemmer()"
   ]
  },
  {
   "cell_type": "code",
   "execution_count": 8,
   "metadata": {},
   "outputs": [],
   "source": [
    "for i in range(len(sentences)):\n",
    "    words = nltk.word_tokenize(sentences[i])\n",
    "    new_words = [stemmer.stem(word)for word in words]\n",
    "    sentences[i] = ' '.join(new_words)"
   ]
  },
  {
   "cell_type": "code",
   "execution_count": 9,
   "metadata": {},
   "outputs": [
    {
     "data": {
      "text/plain": [
       "['thank you all so veri much .',\n",
       " 'thank you to the academi .',\n",
       " 'thank you to all of you in thi room .',\n",
       " 'I have to congratul the other incred nomine thi year .',\n",
       " 'the reven wa the product of the tireless effort of an unbeliev cast and crew .',\n",
       " 'first off , to my brother in thi endeavor , mr. tom hardi .',\n",
       " 'tom , your talent on screen can onli be surpass by your friendship off screen … thank you for creat a transcend cinemat experi .',\n",
       " 'thank you to everybodi at fox and new regenc … my entir team .',\n",
       " 'I have to thank everyon from the veri onset of my career … To my parent ; none of thi would be possibl without you .',\n",
       " 'and to my friend , I love you dearli ; you know who you are .',\n",
       " \"and lastli , I just want to say thi : make the reven wa about man 's relationship to the natur world .\",\n",
       " 'A world that we collect felt in 2015 as the hottest year in record histori .',\n",
       " 'our product need to move to the southern tip of thi planet just to be abl to find snow .',\n",
       " 'climat chang is real , it is happen right now .',\n",
       " 'It is the most urgent threat face our entir speci , and we need to work collect togeth and stop procrastin .',\n",
       " 'We need to support leader around the world who do not speak for the big pollut , but who speak for all of human , for the indigen peopl of the world , for the billion and billion of underprivileg peopl out there who would be most affect by thi .',\n",
       " 'for our children ’ s children , and for those peopl out there whose voic have been drown out by the polit of greed .',\n",
       " 'I thank you all for thi amaz award tonight .',\n",
       " 'let us not take thi planet for grant .',\n",
       " 'I do not take tonight for grant .',\n",
       " 'thank you so veri much .']"
      ]
     },
     "execution_count": 9,
     "metadata": {},
     "output_type": "execute_result"
    }
   ],
   "source": [
    "sentences"
   ]
  },
  {
   "cell_type": "code",
   "execution_count": 10,
   "metadata": {},
   "outputs": [],
   "source": [
    "from nltk.stem import WordNetLemmatizer"
   ]
  },
  {
   "cell_type": "code",
   "execution_count": 11,
   "metadata": {},
   "outputs": [],
   "source": [
    "lemmatizer = WordNetLemmatizer()"
   ]
  },
  {
   "cell_type": "code",
   "execution_count": 15,
   "metadata": {},
   "outputs": [],
   "source": [
    "sentences1 = nltk.sent_tokenize(paragraph)\n",
    "for i in range(len(sentences1)):\n",
    "    words = nltk.word_tokenize(sentences1[i])\n",
    "    new_words = [lemmatizer.lemmatize(word)for word in words]\n",
    "    sentences1[i] = ' '.join(new_words)"
   ]
  },
  {
   "cell_type": "code",
   "execution_count": 16,
   "metadata": {},
   "outputs": [
    {
     "data": {
      "text/plain": [
       "['Thank you all so very much .',\n",
       " 'Thank you to the Academy .',\n",
       " 'Thank you to all of you in this room .',\n",
       " 'I have to congratulate the other incredible nominee this year .',\n",
       " 'The Revenant wa the product of the tireless effort of an unbelievable cast and crew .',\n",
       " 'First off , to my brother in this endeavor , Mr. Tom Hardy .',\n",
       " 'Tom , your talent on screen can only be surpassed by your friendship off screen … thank you for creating a transcendent cinematic experience .',\n",
       " 'Thank you to everybody at Fox and New Regency … my entire team .',\n",
       " 'I have to thank everyone from the very onset of my career … To my parent ; none of this would be possible without you .',\n",
       " 'And to my friend , I love you dearly ; you know who you are .',\n",
       " \"And lastly , I just want to say this : Making The Revenant wa about man 's relationship to the natural world .\",\n",
       " 'A world that we collectively felt in 2015 a the hottest year in recorded history .',\n",
       " 'Our production needed to move to the southern tip of this planet just to be able to find snow .',\n",
       " 'Climate change is real , it is happening right now .',\n",
       " 'It is the most urgent threat facing our entire specie , and we need to work collectively together and stop procrastinating .',\n",
       " 'We need to support leader around the world who do not speak for the big polluter , but who speak for all of humanity , for the indigenous people of the world , for the billion and billion of underprivileged people out there who would be most affected by this .',\n",
       " 'For our child ’ s child , and for those people out there whose voice have been drowned out by the politics of greed .',\n",
       " 'I thank you all for this amazing award tonight .',\n",
       " 'Let u not take this planet for granted .',\n",
       " 'I do not take tonight for granted .',\n",
       " 'Thank you so very much .']"
      ]
     },
     "execution_count": 16,
     "metadata": {},
     "output_type": "execute_result"
    }
   ],
   "source": [
    "sentences1"
   ]
  },
  {
   "cell_type": "markdown",
   "metadata": {},
   "source": [
    "# Removing stopwords"
   ]
  },
  {
   "cell_type": "code",
   "execution_count": 17,
   "metadata": {},
   "outputs": [],
   "source": [
    "from nltk.corpus import stopwords\n",
    "sentences = nltk.sent_tokenize(paragraph)\n",
    "for i in range(len(sentences)):\n",
    "    words = nltk.word_tokenize(sentences[i])\n",
    "    new = [word for word in words if word not in stopwords.words('english')]\n",
    "    sentences[i] = ' '.join(new)"
   ]
  },
  {
   "cell_type": "code",
   "execution_count": 18,
   "metadata": {},
   "outputs": [
    {
     "data": {
      "text/plain": [
       "['Thank much .',\n",
       " 'Thank Academy .',\n",
       " 'Thank room .',\n",
       " 'I congratulate incredible nominees year .',\n",
       " 'The Revenant product tireless efforts unbelievable cast crew .',\n",
       " 'First , brother endeavor , Mr. Tom Hardy .',\n",
       " 'Tom , talent screen surpassed friendship screen … thank creating transcendent cinematic experience .',\n",
       " 'Thank everybody Fox New Regency … entire team .',\n",
       " 'I thank everyone onset career … To parents ; none would possible without .',\n",
       " 'And friends , I love dearly ; know .',\n",
       " \"And lastly , I want say : Making The Revenant man 's relationship natural world .\",\n",
       " 'A world collectively felt 2015 hottest year recorded history .',\n",
       " 'Our production needed move southern tip planet able find snow .',\n",
       " 'Climate change real , happening right .',\n",
       " 'It urgent threat facing entire species , need work collectively together stop procrastinating .',\n",
       " 'We need support leaders around world speak big polluters , speak humanity , indigenous people world , billions billions underprivileged people would affected .',\n",
       " 'For children ’ children , people whose voices drowned politics greed .',\n",
       " 'I thank amazing award tonight .',\n",
       " 'Let us take planet granted .',\n",
       " 'I take tonight granted .',\n",
       " 'Thank much .']"
      ]
     },
     "execution_count": 18,
     "metadata": {},
     "output_type": "execute_result"
    }
   ],
   "source": [
    "sentences"
   ]
  },
  {
   "cell_type": "markdown",
   "metadata": {},
   "source": [
    "# Tagging Parts Of Speech"
   ]
  },
  {
   "cell_type": "code",
   "execution_count": 21,
   "metadata": {},
   "outputs": [
    {
     "data": {
      "text/plain": [
       "\"Thank_NNP you_PRP all_DT so_RB very_RB much_JJ ._. Thank_VB you_PRP to_TO the_DT Academy_NNP ._. Thank_NNP you_PRP to_TO all_DT of_IN you_PRP in_IN this_DT room_NN ._. I_PRP have_VBP to_TO congratulate_VB the_DT other_JJ incredible_JJ nominees_NNS this_DT year_NN ._. The_DT Revenant_NNP was_VBD the_DT product_NN of_IN the_DT tireless_NN efforts_NNS of_IN an_DT unbelievable_JJ cast_NN and_CC crew_NN ._. First_NNP off_RB ,_, to_TO my_PRP$ brother_NN in_IN this_DT endeavor_NN ,_, Mr._NNP Tom_NNP Hardy_NNP ._. Tom_NNP ,_, your_PRP$ talent_NN on_IN screen_NN can_MD only_RB be_VB surpassed_VBN by_IN your_PRP$ friendship_NN off_IN screen_JJ …_NNP thank_NN you_PRP for_IN creating_VBG a_DT transcendent_JJ cinematic_JJ experience_NN ._. Thank_NNP you_PRP to_TO everybody_VB at_IN Fox_NNP and_CC New_NNP Regency_NNP …_NNP my_PRP$ entire_JJ team_NN ._. I_PRP have_VBP to_TO thank_VB everyone_NN from_IN the_DT very_RB onset_NN of_IN my_PRP$ career_NN …_NN To_TO my_PRP$ parents_NNS ;_: none_NN of_IN this_DT would_MD be_VB possible_JJ without_IN you_PRP ._. And_CC to_TO my_PRP$ friends_NNS ,_, I_PRP love_VBP you_PRP dearly_RB ;_: you_PRP know_VBP who_WP you_PRP are_VBP ._. And_CC lastly_RB ,_, I_PRP just_RB want_VBP to_TO say_VB this_DT :_: Making_VBG The_DT Revenant_NNP was_VBD about_IN man_NN 's_POS relationship_NN to_TO the_DT natural_JJ world_NN ._. A_DT world_NN that_IN we_PRP collectively_RB felt_VBD in_IN 2015_CD as_IN the_DT hottest_JJS year_NN in_IN recorded_JJ history_NN ._. Our_PRP$ production_NN needed_VBN to_TO move_VB to_TO the_DT southern_JJ tip_NN of_IN this_DT planet_NN just_RB to_TO be_VB able_JJ to_TO find_VB snow_JJ ._. Climate_NNP change_NN is_VBZ real_JJ ,_, it_PRP is_VBZ happening_VBG right_RB now_RB ._. It_PRP is_VBZ the_DT most_RBS urgent_JJ threat_NN facing_VBG our_PRP$ entire_JJ species_NNS ,_, and_CC we_PRP need_VBP to_TO work_VB collectively_RB together_RB and_CC stop_VB procrastinating_NN ._. We_PRP need_VBP to_TO support_VB leaders_NNS around_IN the_DT world_NN who_WP do_VBP not_RB speak_VB for_IN the_DT big_JJ polluters_NNS ,_, but_CC who_WP speak_VBP for_IN all_DT of_IN humanity_NN ,_, for_IN the_DT indigenous_JJ people_NNS of_IN the_DT world_NN ,_, for_IN the_DT billions_NNS and_CC billions_NNS of_IN underprivileged_JJ people_NNS out_IN there_EX who_WP would_MD be_VB most_RBS affected_VBN by_IN this_DT ._. For_IN our_PRP$ children_NNS ’_VBP s_JJ children_NNS ,_, and_CC for_IN those_DT people_NNS out_RP there_RB whose_WP$ voices_NNS have_VBP been_VBN drowned_VBN out_RP by_IN the_DT politics_NNS of_IN greed_NN ._. I_PRP thank_VBP you_PRP all_DT for_IN this_DT amazing_JJ award_NN tonight_NN ._. Let_VB us_PRP not_RB take_VB this_DT planet_NN for_IN granted_VBN ._. I_PRP do_VBP not_RB take_VB tonight_NN for_IN granted_VBN ._. Thank_NNP you_PRP so_RB very_RB much_JJ ._.\""
      ]
     },
     "execution_count": 21,
     "metadata": {},
     "output_type": "execute_result"
    }
   ],
   "source": [
    "words = nltk.word_tokenize(paragraph)\n",
    "tagged_words = nltk.pos_tag(words)\n",
    "pos_words=[]\n",
    "for tw in tagged_words:\n",
    "    pos_words.append(tw[0]+\"_\"+tw[1])\n",
    "tagged_paragraph = ' '.join(pos_words)\n",
    "tagged_paragraph    "
   ]
  },
  {
   "cell_type": "markdown",
   "metadata": {},
   "source": [
    "# Named Entity Recognition"
   ]
  },
  {
   "cell_type": "code",
   "execution_count": 23,
   "metadata": {},
   "outputs": [],
   "source": [
    "data = \"The Taj Mahal was built by Emperor Shah Jahan\"\n",
    "words = nltk.word_tokenize(data)\n",
    "tagged_words = nltk.pos_tag(words)\n",
    "namedEnt = nltk.ne_chunk(tagged_words)\n",
    "namedEnt.draw()\n",
    "#namedEnt is of datatype tree.tree"
   ]
  },
  {
   "cell_type": "markdown",
   "metadata": {},
   "source": [
    "# Bag of Words Model"
   ]
  },
  {
   "cell_type": "code",
   "execution_count": 38,
   "metadata": {},
   "outputs": [
    {
     "data": {
      "text/plain": [
       "array([[0, 0, 1, ..., 0, 0, 0],\n",
       "       [1, 1, 1, ..., 0, 0, 0],\n",
       "       [0, 1, 1, ..., 0, 0, 0],\n",
       "       ...,\n",
       "       [0, 0, 0, ..., 0, 0, 0],\n",
       "       [0, 0, 0, ..., 0, 0, 0],\n",
       "       [0, 0, 1, ..., 0, 0, 0]])"
      ]
     },
     "execution_count": 38,
     "metadata": {},
     "output_type": "execute_result"
    }
   ],
   "source": [
    "import re\n",
    "import heapq\n",
    "import numpy as np\n",
    "dataset = nltk.sent_tokenize(paragraph)\n",
    "for i in range(len(dataset)):\n",
    "    dataset[i] = dataset[i].lower()\n",
    "    dataset[i] = re.sub(r'\\W',' ',dataset[i])\n",
    "    dataset[i] = re.sub(r'\\s+',' ', dataset[i])\n",
    "    \n",
    "word2count = {}\n",
    "for data in dataset:\n",
    "    words = nltk.word_tokenize(data)\n",
    "    for word in words:\n",
    "        if word not in word2count.keys():\n",
    "            word2count[word] = 1\n",
    "        else:\n",
    "            word2count[word] += 1\n",
    "frequent_words = heapq.nlargest(100,word2count,key=word2count.get)\n",
    "X = []\n",
    "for data in dataset:\n",
    "    vector = []\n",
    "    for word in frequent_words:\n",
    "        if word in nltk.word_tokenize(data):\n",
    "            vector.append(1)\n",
    "        else:\n",
    "            vector.append(0)\n",
    "    X.append(vector)\n",
    "X = np.asarray(X)\n",
    "X"
   ]
  },
  {
   "cell_type": "markdown",
   "metadata": {},
   "source": [
    "# TF-IDF Model\n",
    "   ### TF: Term Frequency\n",
    "   ### IDF: Inverse Document Frequency\n",
    "   ### TF-IDF: TF*IDF\n",
    "   \n",
    "   ### TF = (No. of occurences of the word in that document)/(Total no. of words in that document)\n",
    "   ### IDF = log((No. of documents)/(No. of documents containing the word)"
   ]
  },
  {
   "cell_type": "code",
   "execution_count": 43,
   "metadata": {},
   "outputs": [
    {
     "data": {
      "text/plain": [
       "array([[0.        , 0.        , 0.20066213, ..., 0.        , 0.        ,\n",
       "        0.        ],\n",
       "       [0.22628042, 0.21356813, 0.24079456, ..., 0.        , 0.        ,\n",
       "        0.        ],\n",
       "       [0.        , 0.11864896, 0.26754951, ..., 0.        , 0.        ,\n",
       "        0.        ],\n",
       "       ...,\n",
       "       [0.        , 0.        , 0.        , ..., 0.        , 0.        ,\n",
       "        0.        ],\n",
       "       [0.        , 0.        , 0.        , ..., 0.        , 0.        ,\n",
       "        0.        ],\n",
       "       [0.        , 0.        , 0.24079456, ..., 0.        , 0.        ,\n",
       "        0.        ]])"
      ]
     },
     "execution_count": 43,
     "metadata": {},
     "output_type": "execute_result"
    }
   ],
   "source": [
    "#IDF matrix\n",
    "word_idfs = {}\n",
    "for word in frequent_words:\n",
    "    doc_count = 0\n",
    "    for data in dataset:\n",
    "        if word in nltk.word_tokenize(data):\n",
    "            doc_count += 1\n",
    "    word_idfs[word] = np.log(((len(dataset))/doc_count)+1)\n",
    "\n",
    "#TF matrix\n",
    "tf_matrix = {}\n",
    "for word in frequent_words:\n",
    "    doc_tf = []\n",
    "    for data in dataset:\n",
    "        frequency = 0\n",
    "        for w in nltk.word_tokenize(data):\n",
    "            if w == word:\n",
    "                frequency += 1\n",
    "        tf_word = frequency/len(nltk.word_tokenize(data))\n",
    "        doc_tf.append(tf_word)\n",
    "    tf_matrix[word] = doc_tf  \n",
    "\n",
    "#TF-IDF calculation\n",
    "tfidf_matrix = []\n",
    "for word in tf_matrix.keys():\n",
    "    tfidf = []\n",
    "    for value in tf_matrix[word]:\n",
    "        score = value * word_idfs[word]\n",
    "        tfidf.append(score)\n",
    "    tfidf_matrix.append(tfidf)\n",
    "    \n",
    "X = np.asarray(tfidf_matrix)\n",
    "X = np.transpose(X)\n",
    "X"
   ]
  },
  {
   "cell_type": "markdown",
   "metadata": {},
   "source": [
    "## N-Gram model"
   ]
  },
  {
   "cell_type": "code",
   "execution_count": 49,
   "metadata": {},
   "outputs": [
    {
     "name": "stdout",
     "output_type": "stream",
     "text": [
      "Global warming or climate change has become a worldwide concern. It is gradually developing into an unpreceden\n"
     ]
    }
   ],
   "source": [
    "import random\n",
    "text = \"\"\"Global warming or climate change has become a worldwide concern. It is gradually developing into an unprecedented environmental crisis evident in melting glaciers, changing weather patterns, rising sea levels, floods, cyclones and droughts. Global warming implies an increase in the average temperature of the Earth due to entrapment of greenhouse gases in the earth's atmosphere.\"\"\"\n",
    "n=10\n",
    "ngrams = {}\n",
    "for i in range(len(text)-n):\n",
    "    gram = text[i:i+n]\n",
    "    if gram not in ngrams.keys():\n",
    "        ngrams[gram] = []\n",
    "    ngrams[gram].append(text[i+n])\n",
    "#Testing N-gram model\n",
    "currentGram = text[0:n]\n",
    "result = currentGram\n",
    "for i in range(100):\n",
    "    if currentGram not in ngrams.keys():\n",
    "        break\n",
    "    possibilities = ngrams[currentGram]\n",
    "    nextItem = possibilities[random.randrange(len(possibilities))]\n",
    "    result += nextItem\n",
    "    currentGram = result[len(result)-n:len(result)]\n",
    "print(result)"
   ]
  },
  {
   "cell_type": "markdown",
   "metadata": {},
   "source": [
    "## Word N-gram model"
   ]
  },
  {
   "cell_type": "code",
   "execution_count": 54,
   "metadata": {
    "scrolled": true
   },
   "outputs": [
    {
     "name": "stdout",
     "output_type": "stream",
     "text": [
      "Global warming or climate change has become a worldwide concern . It is gradually developing into an unprecedented environmental crisis evident in melting glaciers , changing weather patterns , rising sea levels ,\n"
     ]
    }
   ],
   "source": [
    "import random\n",
    "nwgram = {}\n",
    "n=3\n",
    "text = \"\"\"Global warming or climate change has become a worldwide concern. It is gradually developing into an unprecedented environmental crisis evident in melting glaciers, changing weather patterns, rising sea levels, floods, cyclones and droughts. Global warming implies an increase in the average temperature of the Earth due to entrapment of greenhouse gases in the earth's atmosphere.\"\"\"\n",
    "words = nltk.word_tokenize(text)\n",
    "for i in range(len(words)-n):\n",
    "    gram = ' '.join(words[i:i+n])\n",
    "    if gram not in nwgram.keys():\n",
    "        nwgram[gram] = []\n",
    "    nwgram[gram].append(words[i+n])\n",
    "\n",
    "current = ' '.join(words[0:n])\n",
    "result = current\n",
    "for i in range(30):\n",
    "    if current not in nwgram.keys():\n",
    "        break\n",
    "    poss = nwgram[current]\n",
    "    nextitem = poss[random.randrange(len(poss))]\n",
    "    result += ' '+nextitem\n",
    "    rwords = nltk.word_tokenize(result)\n",
    "    current = ' '.join(rwords[len(rwords)-n:len(rwords)])\n",
    "print(result)"
   ]
  },
  {
   "cell_type": "markdown",
   "metadata": {},
   "source": [
    "## Latent semantic analysis"
   ]
  },
  {
   "cell_type": "code",
   "execution_count": 56,
   "metadata": {},
   "outputs": [
    {
     "name": "stdout",
     "output_type": "stream",
     "text": [
      "\n",
      "Concept 0 :\n",
      "('the', 0.3755509328990524)\n",
      "('concert', 0.3398647517392523)\n",
      "('of', 0.2966590935014912)\n",
      "('great', 0.2953438656605368)\n",
      "('day', 0.239724388355902)\n",
      "('just', 0.23349402804713168)\n",
      "('was', 0.23349402804713168)\n",
      "('technology', 0.18242602421743612)\n",
      "('is', 0.18039816898768038)\n",
      "('all', 0.1759392127966657)\n",
      "('in', 0.1759392127966657)\n",
      "('singing', 0.1759392127966657)\n",
      "('us', 0.1759392127966657)\n",
      "('were', 0.1759392127966657)\n",
      "('are', 0.12230514048065529)\n",
      "('examples', 0.12230514048065529)\n",
      "('present', 0.12230514048065529)\n",
      "('robots', 0.12230514048065529)\n",
      "('today', 0.12230514048065529)\n",
      "('ai', 0.1223051404806552)\n",
      "('amount', 0.119862194177951)\n",
      "('by', 0.119862194177951)\n",
      "('increasing', 0.119862194177951)\n",
      "('pollution', 0.11934473437599383)\n",
      "('google', 0.0974625109964765)\n",
      "('introducing', 0.0974625109964765)\n",
      "('new', 0.0974625109964765)\n",
      "('to', 0.025996364810169814)\n",
      "('and', 0.023911766267038122)\n",
      "('campaigns', 0.023911766267038122)\n",
      "('global', 0.023911766267038122)\n",
      "('have', 0.023911766267038122)\n",
      "('launch', 0.023911766267038122)\n",
      "('stop', 0.023911766267038122)\n",
      "('warming', 0.023911766267038122)\n",
      "('we', 0.023911766267038122)\n",
      "('cook', 0.007405914780837916)\n",
      "('gordon', 0.007405914780837916)\n",
      "('love', 0.007405914780837916)\n",
      "('ramsay', 0.007405914780837916)\n",
      "('see', 0.007405914780837916)\n",
      "\n",
      "Concept 1 :\n",
      "('to', 0.35489414747819553)\n",
      "('pollution', 0.237479060961788)\n",
      "('cook', 0.2237367705446044)\n",
      "('gordon', 0.2237367705446044)\n",
      "('love', 0.2237367705446044)\n",
      "('ramsay', 0.2237367705446044)\n",
      "('see', 0.2237367705446044)\n",
      "('and', 0.20380230261580978)\n",
      "('campaigns', 0.20380230261580978)\n",
      "('global', 0.20380230261580978)\n",
      "('have', 0.20380230261580978)\n",
      "('launch', 0.20380230261580978)\n",
      "('stop', 0.20380230261580978)\n",
      "('warming', 0.20380230261580978)\n",
      "('we', 0.20380230261580978)\n",
      "('is', 0.16914915143621426)\n",
      "('day', 0.16457489302199058)\n",
      "('google', 0.12148562764304588)\n",
      "('introducing', 0.12148562764304588)\n",
      "('new', 0.12148562764304588)\n",
      "('technology', 0.10322894504411334)\n",
      "('amount', 0.08228744651099529)\n",
      "('by', 0.08228744651099529)\n",
      "('increasing', 0.08228744651099529)\n",
      "('of', 0.004041361546122952)\n",
      "('are', 0.002873727959455614)\n",
      "('examples', 0.002873727959455614)\n",
      "('present', 0.002873727959455614)\n",
      "('robots', 0.002873727959455614)\n",
      "('today', 0.0028737279594556126)\n",
      "('ai', 0.002873727959455476)\n",
      "('all', -0.07946534461024309)\n",
      "('in', -0.07946534461024309)\n",
      "('singing', -0.07946534461024309)\n",
      "('us', -0.07946534461024309)\n",
      "('were', -0.07946534461024309)\n",
      "('the', -0.08308518741355418)\n",
      "('great', -0.09715930981942779)\n",
      "('just', -0.11992102660969842)\n",
      "('was', -0.11992102660969842)\n",
      "('concert', -0.1655078112739473)\n",
      "\n",
      "Concept 2 :\n",
      "('technology', 0.36817515941203455)\n",
      "('google', 0.31828506931586675)\n",
      "('introducing', 0.31828506931586675)\n",
      "('new', 0.31828506931586675)\n",
      "('is', 0.29459629228393247)\n",
      "('are', 0.1252535675825625)\n",
      "('examples', 0.1252535675825625)\n",
      "('present', 0.1252535675825625)\n",
      "('robots', 0.1252535675825625)\n",
      "('today', 0.1252535675825625)\n",
      "('ai', 0.12525356758256226)\n",
      "('day', 0.07322700316139939)\n",
      "('amount', 0.036613501580699696)\n",
      "('by', 0.036613501580699696)\n",
      "('increasing', 0.036613501580699696)\n",
      "('of', 0.026721713822495833)\n",
      "('great', -0.011921703556466679)\n",
      "('pollution', -0.041311310510473306)\n",
      "('and', -0.08638101544981754)\n",
      "('campaigns', -0.08638101544981754)\n",
      "('global', -0.08638101544981754)\n",
      "('have', -0.08638101544981754)\n",
      "('launch', -0.08638101544981754)\n",
      "('stop', -0.08638101544981754)\n",
      "('warming', -0.08638101544981754)\n",
      "('we', -0.08638101544981754)\n",
      "('all', -0.12420591616592316)\n",
      "('in', -0.12420591616592319)\n",
      "('singing', -0.12420591616592319)\n",
      "('us', -0.1242059161659232)\n",
      "('were', -0.1242059161659232)\n",
      "('cook', -0.13071369377552)\n",
      "('gordon', -0.13071369377552)\n",
      "('love', -0.13071369377552)\n",
      "('ramsay', -0.13071369377552)\n",
      "('see', -0.13071369377552)\n",
      "('just', -0.13961557981985398)\n",
      "('was', -0.13961557981985398)\n",
      "('the', -0.1612108637540837)\n",
      "('to', -0.18020725259804524)\n",
      "('concert', -0.2189944984728092)\n",
      "\n",
      "Concept 3 :\n",
      "('day', 0.39280592289724076)\n",
      "('pollution', 0.2162014875322431)\n",
      "('amount', 0.19640296144862052)\n",
      "('by', 0.19640296144862038)\n",
      "('increasing', 0.19640296144862038)\n",
      "('is', 0.1587942790036922)\n",
      "('the', 0.1031608282381782)\n",
      "('and', 0.06405380925965727)\n",
      "('campaigns', 0.06405380925965723)\n",
      "('global', 0.06405380925965723)\n",
      "('have', 0.06405380925965723)\n",
      "('launch', 0.06405380925965723)\n",
      "('stop', 0.06405380925965723)\n",
      "('warming', 0.06405380925965723)\n",
      "('we', 0.06405380925965723)\n",
      "('us', 0.040094408605400894)\n",
      "('were', 0.040094408605400894)\n",
      "('in', 0.04009440860540088)\n",
      "('singing', 0.04009440860540088)\n",
      "('all', 0.04009440860540084)\n",
      "('of', 0.02923710241553019)\n",
      "('google', -0.005104346493055515)\n",
      "('introducing', -0.005104346493055515)\n",
      "('new', -0.005104346493055515)\n",
      "('concert', -0.04234247481088922)\n",
      "('just', -0.09110416056835204)\n",
      "('was', -0.09110416056835204)\n",
      "('to', -0.13467081201460532)\n",
      "('technology', -0.16634540458901326)\n",
      "('ai', -0.19529106889443082)\n",
      "('today', -0.19529106889443082)\n",
      "('are', -0.19529106889443085)\n",
      "('examples', -0.19529106889443085)\n",
      "('present', -0.19529106889443085)\n",
      "('robots', -0.19529106889443085)\n",
      "('cook', -0.22629101311217267)\n",
      "('gordon', -0.22629101311217267)\n",
      "('love', -0.22629101311217267)\n",
      "('ramsay', -0.22629101311217267)\n",
      "('see', -0.22629101311217267)\n",
      "('great', -0.23773263587508608)\n"
     ]
    }
   ],
   "source": [
    "from sklearn.feature_extraction.text import TfidfVectorizer\n",
    "from sklearn.decomposition import TruncatedSVD\n",
    "\n",
    "dataset = [\"The amount of pollution is increasing day by day\",\n",
    "          \"The concert was just great\",\n",
    "          \"I love to see Gordon Ramsay cook\",\n",
    "          \"Google is introducing a new technology\",\n",
    "          \"AI Robots are examples of great technology present today\",\n",
    "          \"All of us were singing in the concert\",\n",
    "          \"We have launch campaigns to stop pollution and global warming\"]\n",
    "dataset = [line.lower() for line in dataset]\n",
    "vectorizer = TfidfVectorizer()\n",
    "X = vectorizer.fit_transform(dataset)\n",
    "lsa = TruncatedSVD(n_components=4, n_iter=100)\n",
    "lsa.fit(X)\n",
    "terms = vectorizer.get_feature_names()\n",
    "for i, comp in enumerate(lsa.components_):\n",
    "    components  = zip(terms, comp)\n",
    "    sortedTerms = sorted(components,key=lambda x:x[1],reverse=True)\n",
    "    print(\"\\nConcept\",i,\":\")\n",
    "    for term in sortedTerms:\n",
    "        print(term)\n",
    "        "
   ]
  },
  {
   "cell_type": "code",
   "execution_count": null,
   "metadata": {},
   "outputs": [],
   "source": []
  }
 ],
 "metadata": {
  "kernelspec": {
   "display_name": "Python 3",
   "language": "python",
   "name": "python3"
  },
  "language_info": {
   "codemirror_mode": {
    "name": "ipython",
    "version": 3
   },
   "file_extension": ".py",
   "mimetype": "text/x-python",
   "name": "python",
   "nbconvert_exporter": "python",
   "pygments_lexer": "ipython3",
   "version": "3.6.8"
  }
 },
 "nbformat": 4,
 "nbformat_minor": 2
}
